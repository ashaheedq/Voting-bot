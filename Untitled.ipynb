{
 "cells": [
  {
   "cell_type": "code",
   "execution_count": null,
   "metadata": {},
   "outputs": [
    {
     "name": "stdout",
     "output_type": "stream",
     "text": [
      "Successful: 1\n",
      "Successful: 2\n",
      "Successful: 3\n",
      "Successful: 4\n",
      "Successful: 5\n",
      "Successful: 6\n",
      "Successful: 7\n",
      "Successful: 8\n",
      "Successful: 9\n",
      "Successful: 10\n",
      "Unsuccessful\n",
      "Successful: 11\n",
      "Successful: 12\n",
      "Unsuccessful\n",
      "Successful: 13\n",
      "Successful: 14\n",
      "Unsuccessful\n",
      "Successful: 15\n",
      "Successful: 16\n",
      "Successful: 17\n",
      "Successful: 18\n",
      "Unsuccessful\n",
      "proxy failed\n",
      "Successful: 19\n",
      "Unsuccessful\n",
      "Unsuccessful\n",
      "Successful: 20\n",
      "proxy failed\n",
      "Successful: 21\n",
      "Successful: 22\n",
      "Successful: 23\n",
      "Successful: 24\n",
      "Successful: 25\n",
      "Successful: 26\n",
      "proxy failed\n",
      "Successful: 27\n",
      "Unsuccessful\n",
      "Successful: 28\n",
      "Unsuccessful\n",
      "Successful: 29\n",
      "Successful: 30\n",
      "Successful: 31\n",
      "proxy failed\n",
      "Successful: 32\n",
      "Successful: 33\n",
      "Unsuccessful\n",
      "Unsuccessful\n",
      "Successful: 34\n",
      "Successful: 35\n",
      "Successful: 36\n",
      "Successful: 37\n",
      "Unsuccessful\n",
      "Successful: 38\n",
      "Successful: 39\n",
      "Successful: 40\n",
      "Successful: 41\n",
      "Successful: 42\n",
      "Successful: 43\n",
      "proxy failed\n",
      "Successful: 44\n",
      "proxy failed\n",
      "Successful: 45\n",
      "Successful: 46\n",
      "Successful: 47\n",
      "Successful: 48\n",
      "Successful: 49\n",
      "Successful: 50\n",
      "Successful: 51\n",
      "proxy failed\n",
      "Successful: 52\n",
      "Successful: 53\n",
      "Successful: 54\n",
      "Successful: 55\n",
      "Successful: 56\n",
      "Successful: 57\n",
      "Successful: 58\n",
      "Successful: 59\n",
      "Successful: 60\n",
      "Successful: 61\n",
      "Successful: 62\n",
      "proxy failed\n",
      "proxy failed\n",
      "Successful: 63\n",
      "Successful: 64\n",
      "Successful: 65\n",
      "Unsuccessful\n",
      "Successful: 66\n",
      "proxy failed\n",
      "Successful: 67\n",
      "Unsuccessful\n",
      "proxy failed\n",
      "proxy failed\n",
      "Successful: 68\n",
      "Successful: 69\n",
      "proxy failed\n",
      "proxy failed\n",
      "Successful: 70\n",
      "proxy failed\n",
      "proxy failed\n",
      "proxy failed\n",
      "proxy failed\n",
      "proxy failed\n",
      "proxy failed\n",
      "proxy failed\n",
      "proxy failed\n",
      "Unsuccessful\n",
      "Successful: 71\n",
      "Successful: 72\n",
      "proxy failed\n",
      "Successful: 73\n",
      "Unsuccessful\n"
     ]
    }
   ],
   "source": [
    "#!/usr/bin/python\n",
    "url = 'http://www.easypolls.net/poll?jsoncallback=jQuery110206801830351400204_1590362878720&command=getPoll&pollId=5ecad213e4b017b74559a5ce&isMobile=false&_=1436987933238'\n",
    "\n",
    "\n",
    "import mechanize, http.cookiejar as cookielib, json, time\n",
    "from \n",
    "from random import randint\n",
    "br = mechanize.Browser()\n",
    "cj = cookielib.LWPCookieJar()\n",
    "br.set_cookiejar(cj)\n",
    "\n",
    "# Browser options\n",
    "br.set_handle_equiv(True)\n",
    "br.set_handle_redirect(True)\n",
    "br.set_handle_referer(True)\n",
    "br.set_handle_robots(False)\n",
    "\n",
    "br.set_handle_refresh(mechanize._http.HTTPRefreshProcessor(), max_time=1)\n",
    "br.addheaders = [ ('Host','www.easypolls.net'), ('User-Agent','Mozilla/5.0 (X11; Ubuntu; Linux i686; rv:38.0) Gecko/20100101 Firefox/38.0'), ('Accept','text/html,application/xhtml+xml,application/xml;q=0.9,*/*;q=0.8'), ('Accept','text/html,application/xhtml+xml,application/xml;q=0.9,*/*;q=0.8'), ('Accept-Language','en-US,en;q=0.5'), ('Accept-Encoding','deflate') ]\n",
    "count = 1\n",
    "\n",
    "while True:\n",
    "    cj.clear()\n",
    "    try:\n",
    "        res = br.open(url)\n",
    "        page = res.read()\n",
    "        search = 'pollKey\":\"'\n",
    "        pos = str(page).find(search)\n",
    "        pkey = str(page)[pos+10:pos+17]\n",
    "\n",
    "        submit = 'https://www.easypolls.net/poll?jsoncallback=jQuery110206801830351400204_1590362878720%s&multResp=1&pollId=5ecad213e4b017b74559a5ce&pollKey={}&command=saveResponse&_=1590362878722'.format(pkey)\n",
    "    # https://www.easypolls.net/poll?jsoncallback=jQuery110207348431190803018_1590382329308&multResp=1&pollId=5ecad213e4b017b74559a5ce&pollKey=v2zu92&command=saveResponse&_=1590382329310\n",
    "        res = br.open(submit)\n",
    "        page = res.read()\n",
    "        page = str(page)[ str(page).find('{') : str(page).rfind('}')+1 ]\n",
    "        data = json.loads(page)\n",
    "        if data['resultCode'] == '0':\n",
    "            print ('Successful:', count)\n",
    "            count += 1\n",
    "        else:\n",
    "            print ('Unsuccessful')\n",
    "    except:\n",
    "        print('proxy failed')\n",
    "        pass\n",
    "\n",
    "    #time.sleep(2)"
   ]
  },
  {
   "cell_type": "code",
   "execution_count": null,
   "metadata": {},
   "outputs": [],
   "source": []
  },
  {
   "cell_type": "code",
   "execution_count": 3,
   "metadata": {},
   "outputs": [],
   "source": [
    "from lxml.html import fromstring\n",
    "import requests\n",
    "import numpy as np\n",
    "from itertools import cycle\n",
    "\n",
    "\n",
    "def get_proxies(num=None):\n",
    "    # url = 'https://free-proxy-list.net/'\n",
    "    # response = requests.get(url)\n",
    "    # parser = fromstring(response.text)\n",
    "    # proxies = list(requests.get('https://proxy.rudnkh.me/txt').text.split())\n",
    "    # for i in parser.xpath('//tbody/tr'):\n",
    "    #     if i.xpath('.//td[7][contains(text(),\"yes\")]'):\n",
    "    #         proxy = \":\".join([i.xpath('.//td[1]/text()')[0], i.xpath('.//td[2]/text()')[0]])\n",
    "    #         proxies.append(proxy)\n",
    "\n",
    "    link = \"https://api.proxyscrape.com/?request=getproxies&proxytype=http&timeout=1000&country=all&ssl=all&anonymity=all\"\n",
    "    proxies = list(requests.get(link).text.split())\n",
    "    np.random.shuffle(proxies)\n",
    "    \n",
    "#     if len(proxies) == 0:\n",
    "#         proxies = list(requests.get(\n",
    "#             link[:-3]+'99').text.split())  # change uptime to 99\n",
    "#         np.random.shuffle(proxies)\n",
    "#     # print('Found', len(proxies), 'proxies, testing them now')\n",
    "\n",
    "    if num is None:\n",
    "        num = len(proxies)\n",
    "    tested = test_proxies(proxies, num)\n",
    "    return tested\n",
    "\n",
    "\n",
    "def test_proxies(proxies, num):\n",
    "    url = 'https://httpbin.org/ip'\n",
    "    proxy_pool = cycle(proxies)\n",
    "    working_proxies = []\n",
    "    for i in range(1, len(proxies)):\n",
    "        if num == 0:\n",
    "            break\n",
    "        # Get a proxy from the pool\n",
    "        proxy = next(proxy_pool)\n",
    "        # print(\"Request #%d\" % i)\n",
    "        try:\n",
    "            response = requests.get(\n",
    "                url, proxies={\"http\": proxy, \"https\": proxy}, timeout=1)\n",
    "            # print(response.json())\n",
    "            working_proxies.append(proxy)\n",
    "            num -= 1\n",
    "        except:\n",
    "            # Most free proxies will often get connection errors. You will have retry the entire request using another proxy to work.\n",
    "            # print(\"Skipping. Connnection error\")\n",
    "            pass\n",
    "    return working_proxies\n",
    "\n",
    "\n",
    "# proxies = get_proxies(5)\n",
    "# # with open('proxies.txt') as f:\n",
    "# #         proxies = f.read().splitlines()\n",
    "# # test_proxies(proxies, 10)\n",
    "# print(proxies)\n"
   ]
  },
  {
   "cell_type": "code",
   "execution_count": 5,
   "metadata": {},
   "outputs": [],
   "source": [
    "proxies = get_proxies(100)"
   ]
  },
  {
   "cell_type": "code",
   "execution_count": 7,
   "metadata": {},
   "outputs": [
    {
     "data": {
      "text/plain": [
       "47"
      ]
     },
     "execution_count": 7,
     "metadata": {},
     "output_type": "execute_result"
    }
   ],
   "source": [
    "len(proxies)"
   ]
  },
  {
   "cell_type": "code",
   "execution_count": 82,
   "metadata": {},
   "outputs": [],
   "source": []
  },
  {
   "cell_type": "code",
   "execution_count": 84,
   "metadata": {},
   "outputs": [
    {
     "data": {
      "text/plain": [
       "'18.221.76.31:3128'"
      ]
     },
     "execution_count": 84,
     "metadata": {},
     "output_type": "execute_result"
    }
   ],
   "source": [
    "choice(proxies)"
   ]
  },
  {
   "cell_type": "code",
   "execution_count": 1,
   "metadata": {},
   "outputs": [
    {
     "name": "stderr",
     "output_type": "stream",
     "text": [
      "<ipython-input-1-feca09c30357>:4: DeprecationWarning: use options instead of firefox_options\n",
      "  browser = webdriver.Firefox(firefox_options=firefox_options)\n"
     ]
    },
    {
     "ename": "WebDriverException",
     "evalue": "Message: 'geckodriver' executable needs to be in PATH. \n",
     "output_type": "error",
     "traceback": [
      "\u001b[0;31m---------------------------------------------------------------------------\u001b[0m",
      "\u001b[0;31mFileNotFoundError\u001b[0m                         Traceback (most recent call last)",
      "\u001b[0;32m/Library/Frameworks/Python.framework/Versions/3.8/lib/python3.8/site-packages/selenium/webdriver/common/service.py\u001b[0m in \u001b[0;36mstart\u001b[0;34m(self)\u001b[0m\n\u001b[1;32m     71\u001b[0m             \u001b[0mcmd\u001b[0m\u001b[0;34m.\u001b[0m\u001b[0mextend\u001b[0m\u001b[0;34m(\u001b[0m\u001b[0mself\u001b[0m\u001b[0;34m.\u001b[0m\u001b[0mcommand_line_args\u001b[0m\u001b[0;34m(\u001b[0m\u001b[0;34m)\u001b[0m\u001b[0;34m)\u001b[0m\u001b[0;34m\u001b[0m\u001b[0;34m\u001b[0m\u001b[0m\n\u001b[0;32m---> 72\u001b[0;31m             self.process = subprocess.Popen(cmd, env=self.env,\n\u001b[0m\u001b[1;32m     73\u001b[0m                                             \u001b[0mclose_fds\u001b[0m\u001b[0;34m=\u001b[0m\u001b[0mplatform\u001b[0m\u001b[0;34m.\u001b[0m\u001b[0msystem\u001b[0m\u001b[0;34m(\u001b[0m\u001b[0;34m)\u001b[0m \u001b[0;34m!=\u001b[0m \u001b[0;34m'Windows'\u001b[0m\u001b[0;34m,\u001b[0m\u001b[0;34m\u001b[0m\u001b[0;34m\u001b[0m\u001b[0m\n",
      "\u001b[0;32m/Library/Frameworks/Python.framework/Versions/3.8/lib/python3.8/subprocess.py\u001b[0m in \u001b[0;36m__init__\u001b[0;34m(self, args, bufsize, executable, stdin, stdout, stderr, preexec_fn, close_fds, shell, cwd, env, universal_newlines, startupinfo, creationflags, restore_signals, start_new_session, pass_fds, encoding, errors, text)\u001b[0m\n\u001b[1;32m    853\u001b[0m \u001b[0;34m\u001b[0m\u001b[0m\n\u001b[0;32m--> 854\u001b[0;31m             self._execute_child(args, executable, preexec_fn, close_fds,\n\u001b[0m\u001b[1;32m    855\u001b[0m                                 \u001b[0mpass_fds\u001b[0m\u001b[0;34m,\u001b[0m \u001b[0mcwd\u001b[0m\u001b[0;34m,\u001b[0m \u001b[0menv\u001b[0m\u001b[0;34m,\u001b[0m\u001b[0;34m\u001b[0m\u001b[0;34m\u001b[0m\u001b[0m\n",
      "\u001b[0;32m/Library/Frameworks/Python.framework/Versions/3.8/lib/python3.8/subprocess.py\u001b[0m in \u001b[0;36m_execute_child\u001b[0;34m(self, args, executable, preexec_fn, close_fds, pass_fds, cwd, env, startupinfo, creationflags, shell, p2cread, p2cwrite, c2pread, c2pwrite, errread, errwrite, restore_signals, start_new_session)\u001b[0m\n\u001b[1;32m   1701\u001b[0m                         \u001b[0merr_msg\u001b[0m \u001b[0;34m=\u001b[0m \u001b[0mos\u001b[0m\u001b[0;34m.\u001b[0m\u001b[0mstrerror\u001b[0m\u001b[0;34m(\u001b[0m\u001b[0merrno_num\u001b[0m\u001b[0;34m)\u001b[0m\u001b[0;34m\u001b[0m\u001b[0;34m\u001b[0m\u001b[0m\n\u001b[0;32m-> 1702\u001b[0;31m                     \u001b[0;32mraise\u001b[0m \u001b[0mchild_exception_type\u001b[0m\u001b[0;34m(\u001b[0m\u001b[0merrno_num\u001b[0m\u001b[0;34m,\u001b[0m \u001b[0merr_msg\u001b[0m\u001b[0;34m,\u001b[0m \u001b[0merr_filename\u001b[0m\u001b[0;34m)\u001b[0m\u001b[0;34m\u001b[0m\u001b[0;34m\u001b[0m\u001b[0m\n\u001b[0m\u001b[1;32m   1703\u001b[0m                 \u001b[0;32mraise\u001b[0m \u001b[0mchild_exception_type\u001b[0m\u001b[0;34m(\u001b[0m\u001b[0merr_msg\u001b[0m\u001b[0;34m)\u001b[0m\u001b[0;34m\u001b[0m\u001b[0;34m\u001b[0m\u001b[0m\n",
      "\u001b[0;31mFileNotFoundError\u001b[0m: [Errno 2] No such file or directory: 'geckodriver'",
      "\nDuring handling of the above exception, another exception occurred:\n",
      "\u001b[0;31mWebDriverException\u001b[0m                        Traceback (most recent call last)",
      "\u001b[0;32m<ipython-input-1-feca09c30357>\u001b[0m in \u001b[0;36m<module>\u001b[0;34m\u001b[0m\n\u001b[1;32m      2\u001b[0m \u001b[0mfirefox_options\u001b[0m \u001b[0;34m=\u001b[0m \u001b[0mwebdriver\u001b[0m\u001b[0;34m.\u001b[0m\u001b[0mFirefoxOptions\u001b[0m\u001b[0;34m(\u001b[0m\u001b[0;34m)\u001b[0m\u001b[0;34m\u001b[0m\u001b[0;34m\u001b[0m\u001b[0m\n\u001b[1;32m      3\u001b[0m \u001b[0mfirefox_options\u001b[0m\u001b[0;34m.\u001b[0m\u001b[0madd_argument\u001b[0m\u001b[0;34m(\u001b[0m\u001b[0;34m\"--private\"\u001b[0m\u001b[0;34m)\u001b[0m\u001b[0;34m\u001b[0m\u001b[0;34m\u001b[0m\u001b[0m\n\u001b[0;32m----> 4\u001b[0;31m \u001b[0mbrowser\u001b[0m \u001b[0;34m=\u001b[0m \u001b[0mwebdriver\u001b[0m\u001b[0;34m.\u001b[0m\u001b[0mFirefox\u001b[0m\u001b[0;34m(\u001b[0m\u001b[0mfirefox_options\u001b[0m\u001b[0;34m=\u001b[0m\u001b[0mfirefox_options\u001b[0m\u001b[0;34m)\u001b[0m\u001b[0;34m\u001b[0m\u001b[0;34m\u001b[0m\u001b[0m\n\u001b[0m",
      "\u001b[0;32m/Library/Frameworks/Python.framework/Versions/3.8/lib/python3.8/site-packages/selenium/webdriver/firefox/webdriver.py\u001b[0m in \u001b[0;36m__init__\u001b[0;34m(self, firefox_profile, firefox_binary, timeout, capabilities, proxy, executable_path, options, service_log_path, firefox_options, service_args, desired_capabilities, log_path, keep_alive)\u001b[0m\n\u001b[1;32m    162\u001b[0m                 \u001b[0mservice_args\u001b[0m\u001b[0;34m=\u001b[0m\u001b[0mservice_args\u001b[0m\u001b[0;34m,\u001b[0m\u001b[0;34m\u001b[0m\u001b[0;34m\u001b[0m\u001b[0m\n\u001b[1;32m    163\u001b[0m                 log_path=service_log_path)\n\u001b[0;32m--> 164\u001b[0;31m             \u001b[0mself\u001b[0m\u001b[0;34m.\u001b[0m\u001b[0mservice\u001b[0m\u001b[0;34m.\u001b[0m\u001b[0mstart\u001b[0m\u001b[0;34m(\u001b[0m\u001b[0;34m)\u001b[0m\u001b[0;34m\u001b[0m\u001b[0;34m\u001b[0m\u001b[0m\n\u001b[0m\u001b[1;32m    165\u001b[0m \u001b[0;34m\u001b[0m\u001b[0m\n\u001b[1;32m    166\u001b[0m             \u001b[0mcapabilities\u001b[0m\u001b[0;34m.\u001b[0m\u001b[0mupdate\u001b[0m\u001b[0;34m(\u001b[0m\u001b[0moptions\u001b[0m\u001b[0;34m.\u001b[0m\u001b[0mto_capabilities\u001b[0m\u001b[0;34m(\u001b[0m\u001b[0;34m)\u001b[0m\u001b[0;34m)\u001b[0m\u001b[0;34m\u001b[0m\u001b[0;34m\u001b[0m\u001b[0m\n",
      "\u001b[0;32m/Library/Frameworks/Python.framework/Versions/3.8/lib/python3.8/site-packages/selenium/webdriver/common/service.py\u001b[0m in \u001b[0;36mstart\u001b[0;34m(self)\u001b[0m\n\u001b[1;32m     79\u001b[0m         \u001b[0;32mexcept\u001b[0m \u001b[0mOSError\u001b[0m \u001b[0;32mas\u001b[0m \u001b[0merr\u001b[0m\u001b[0;34m:\u001b[0m\u001b[0;34m\u001b[0m\u001b[0;34m\u001b[0m\u001b[0m\n\u001b[1;32m     80\u001b[0m             \u001b[0;32mif\u001b[0m \u001b[0merr\u001b[0m\u001b[0;34m.\u001b[0m\u001b[0merrno\u001b[0m \u001b[0;34m==\u001b[0m \u001b[0merrno\u001b[0m\u001b[0;34m.\u001b[0m\u001b[0mENOENT\u001b[0m\u001b[0;34m:\u001b[0m\u001b[0;34m\u001b[0m\u001b[0;34m\u001b[0m\u001b[0m\n\u001b[0;32m---> 81\u001b[0;31m                 raise WebDriverException(\n\u001b[0m\u001b[1;32m     82\u001b[0m                     \"'%s' executable needs to be in PATH. %s\" % (\n\u001b[1;32m     83\u001b[0m                         os.path.basename(self.path), self.start_error_message)\n",
      "\u001b[0;31mWebDriverException\u001b[0m: Message: 'geckodriver' executable needs to be in PATH. \n"
     ]
    }
   ],
   "source": [
    "from selenium import webdriver    \n",
    "firefox_options = webdriver.FirefoxOptions()\n",
    "firefox_options.add_argument(\"--private\")\n",
    "browser = webdriver.Firefox(firefox_options=firefox_options)"
   ]
  },
  {
   "cell_type": "code",
   "execution_count": null,
   "metadata": {},
   "outputs": [],
   "source": []
  }
 ],
 "metadata": {
  "kernelspec": {
   "display_name": "Python 3",
   "language": "python",
   "name": "python3"
  },
  "language_info": {
   "codemirror_mode": {
    "name": "ipython",
    "version": 3
   },
   "file_extension": ".py",
   "mimetype": "text/x-python",
   "name": "python",
   "nbconvert_exporter": "python",
   "pygments_lexer": "ipython3",
   "version": "3.8.2"
  }
 },
 "nbformat": 4,
 "nbformat_minor": 4
}
