{
 "cells": [
  {
   "cell_type": "code",
   "execution_count": 4,
   "metadata": {},
   "outputs": [],
   "source": [
    "import requests\n",
    "from itertools import cycle\n",
    "\n",
    "proxies_ = []\n",
    "with open('proxies.txt') as f:\n",
    "    for i in f.readlines():\n",
    "    \tproxies_.append(i.strip())\n",
    "\n",
    "def test_proxies(proxies):\n",
    "    url = 'https://httpbin.org/ip'\n",
    "    proxy_pool = cycle(proxies)\n",
    "    working_proxies = []\n",
    "    for i in range(len(proxies)):\n",
    "        proxy = proxies[i]\n",
    "        try:\n",
    "            response = requests.get(\n",
    "                url, proxies={\"http\": proxy, \"https\": proxy}, timeout=1)\n",
    "            working_proxies.append(proxy)\n",
    "        except:\n",
    "            pass\n",
    "    return working_proxies"
   ]
  },
  {
   "cell_type": "code",
   "execution_count": 5,
   "metadata": {},
   "outputs": [],
   "source": [
    "z = test_proxies(proxies_)"
   ]
  },
  {
   "cell_type": "code",
   "execution_count": 6,
   "metadata": {},
   "outputs": [
    {
     "data": {
      "text/plain": [
       "300"
      ]
     },
     "execution_count": 6,
     "metadata": {},
     "output_type": "execute_result"
    }
   ],
   "source": [
    "len(proxies_)"
   ]
  },
  {
   "cell_type": "code",
   "execution_count": 7,
   "metadata": {},
   "outputs": [
    {
     "data": {
      "text/plain": [
       "14"
      ]
     },
     "execution_count": 7,
     "metadata": {},
     "output_type": "execute_result"
    }
   ],
   "source": [
    "len(z)"
   ]
  },
  {
   "cell_type": "code",
   "execution_count": 8,
   "metadata": {},
   "outputs": [
    {
     "data": {
      "text/plain": [
       "['51.158.78.179:8811',\n",
       " '79.120.177.106:8080',\n",
       " '139.99.222.27:3128',\n",
       " '212.83.174.43:5836',\n",
       " '15.165.85.203:3128',\n",
       " '52.187.120.34:3128',\n",
       " '46.8.28.17:8080',\n",
       " '212.98.143.138:8082',\n",
       " '122.3.252.187:3128',\n",
       " '139.180.139.92:8080',\n",
       " '91.214.179.24:8080',\n",
       " '212.83.188.115:5836',\n",
       " '52.231.29.9:3128',\n",
       " '85.10.198.215:3838']"
      ]
     },
     "execution_count": 8,
     "metadata": {},
     "output_type": "execute_result"
    }
   ],
   "source": [
    "z"
   ]
  },
  {
   "cell_type": "code",
   "execution_count": null,
   "metadata": {},
   "outputs": [],
   "source": []
  }
 ],
 "metadata": {
  "kernelspec": {
   "display_name": "Python 3",
   "language": "python",
   "name": "python3"
  },
  "language_info": {
   "codemirror_mode": {
    "name": "ipython",
    "version": 3
   },
   "file_extension": ".py",
   "mimetype": "text/x-python",
   "name": "python",
   "nbconvert_exporter": "python",
   "pygments_lexer": "ipython3",
   "version": "3.8.2"
  }
 },
 "nbformat": 4,
 "nbformat_minor": 4
}
